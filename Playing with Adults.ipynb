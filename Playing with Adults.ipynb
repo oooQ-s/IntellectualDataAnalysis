{
 "cells": [
  {
   "cell_type": "markdown",
   "id": "626c7ba7",
   "metadata": {
    "pycharm": {
     "name": "#%% md\n"
    }
   },
   "source": [
    "### Анализ данных с pandas"
   ]
  },
  {
   "cell_type": "code",
   "execution_count": 1,
   "id": "fa750308",
   "metadata": {
    "pycharm": {
     "name": "#%%\n"
    }
   },
   "outputs": [],
   "source": [
    "import numpy as np\n",
    "import pandas as pd"
   ]
  },
  {
   "cell_type": "code",
   "execution_count": 8,
   "id": "5fa7fa65",
   "metadata": {
    "pycharm": {
     "name": "#%%\n"
    }
   },
   "outputs": [
    {
     "data": {
      "text/plain": "   39          State-gov   77516   Bachelors   13        Never-married  \\\n0  50   Self-emp-not-inc   83311   Bachelors   13   Married-civ-spouse   \n1  38            Private  215646     HS-grad    9             Divorced   \n2  53            Private  234721        11th    7   Married-civ-spouse   \n3  28            Private  338409   Bachelors   13   Married-civ-spouse   \n4  37            Private  284582     Masters   14   Married-civ-spouse   \n\n         Adm-clerical   Not-in-family   White     Male   2174   0   40  \\\n0     Exec-managerial         Husband   White     Male      0   0   13   \n1   Handlers-cleaners   Not-in-family   White     Male      0   0   40   \n2   Handlers-cleaners         Husband   Black     Male      0   0   40   \n3      Prof-specialty            Wife   Black   Female      0   0   40   \n4     Exec-managerial            Wife   White   Female      0   0   40   \n\n    United-States   <=50K  \n0   United-States   <=50K  \n1   United-States   <=50K  \n2   United-States   <=50K  \n3            Cuba   <=50K  \n4   United-States   <=50K  ",
      "text/html": "<div>\n<style scoped>\n    .dataframe tbody tr th:only-of-type {\n        vertical-align: middle;\n    }\n\n    .dataframe tbody tr th {\n        vertical-align: top;\n    }\n\n    .dataframe thead th {\n        text-align: right;\n    }\n</style>\n<table border=\"1\" class=\"dataframe\">\n  <thead>\n    <tr style=\"text-align: right;\">\n      <th></th>\n      <th>39</th>\n      <th>State-gov</th>\n      <th>77516</th>\n      <th>Bachelors</th>\n      <th>13</th>\n      <th>Never-married</th>\n      <th>Adm-clerical</th>\n      <th>Not-in-family</th>\n      <th>White</th>\n      <th>Male</th>\n      <th>2174</th>\n      <th>0</th>\n      <th>40</th>\n      <th>United-States</th>\n      <th>&lt;=50K</th>\n    </tr>\n  </thead>\n  <tbody>\n    <tr>\n      <th>0</th>\n      <td>50</td>\n      <td>Self-emp-not-inc</td>\n      <td>83311</td>\n      <td>Bachelors</td>\n      <td>13</td>\n      <td>Married-civ-spouse</td>\n      <td>Exec-managerial</td>\n      <td>Husband</td>\n      <td>White</td>\n      <td>Male</td>\n      <td>0</td>\n      <td>0</td>\n      <td>13</td>\n      <td>United-States</td>\n      <td>&lt;=50K</td>\n    </tr>\n    <tr>\n      <th>1</th>\n      <td>38</td>\n      <td>Private</td>\n      <td>215646</td>\n      <td>HS-grad</td>\n      <td>9</td>\n      <td>Divorced</td>\n      <td>Handlers-cleaners</td>\n      <td>Not-in-family</td>\n      <td>White</td>\n      <td>Male</td>\n      <td>0</td>\n      <td>0</td>\n      <td>40</td>\n      <td>United-States</td>\n      <td>&lt;=50K</td>\n    </tr>\n    <tr>\n      <th>2</th>\n      <td>53</td>\n      <td>Private</td>\n      <td>234721</td>\n      <td>11th</td>\n      <td>7</td>\n      <td>Married-civ-spouse</td>\n      <td>Handlers-cleaners</td>\n      <td>Husband</td>\n      <td>Black</td>\n      <td>Male</td>\n      <td>0</td>\n      <td>0</td>\n      <td>40</td>\n      <td>United-States</td>\n      <td>&lt;=50K</td>\n    </tr>\n    <tr>\n      <th>3</th>\n      <td>28</td>\n      <td>Private</td>\n      <td>338409</td>\n      <td>Bachelors</td>\n      <td>13</td>\n      <td>Married-civ-spouse</td>\n      <td>Prof-specialty</td>\n      <td>Wife</td>\n      <td>Black</td>\n      <td>Female</td>\n      <td>0</td>\n      <td>0</td>\n      <td>40</td>\n      <td>Cuba</td>\n      <td>&lt;=50K</td>\n    </tr>\n    <tr>\n      <th>4</th>\n      <td>37</td>\n      <td>Private</td>\n      <td>284582</td>\n      <td>Masters</td>\n      <td>14</td>\n      <td>Married-civ-spouse</td>\n      <td>Exec-managerial</td>\n      <td>Wife</td>\n      <td>White</td>\n      <td>Female</td>\n      <td>0</td>\n      <td>0</td>\n      <td>40</td>\n      <td>United-States</td>\n      <td>&lt;=50K</td>\n    </tr>\n  </tbody>\n</table>\n</div>"
     },
     "execution_count": 8,
     "metadata": {},
     "output_type": "execute_result"
    }
   ],
   "source": [
    "# загружаем данные из файла\n",
    "adults = pd.read_csv('adults.csv')\n",
    "adults.head()\n"
   ]
  },
  {
   "cell_type": "code",
   "execution_count": null,
   "id": "32eac66d",
   "metadata": {
    "pycharm": {
     "name": "#%%\n"
    }
   },
   "outputs": [],
   "source": [
    "# Размеры таблицы\n",
    "adults.shape"
   ]
  },
  {
   "cell_type": "code",
   "execution_count": null,
   "id": "13183212",
   "metadata": {
    "pycharm": {
     "name": "#%%\n"
    }
   },
   "outputs": [],
   "source": [
    "# Доступ к столбцам по имени\n",
    "len(adults[\"age\"])\n",
    "# также можно использовать такой вариант обращения к столбцу\n",
    "adults.age.mean()"
   ]
  },
  {
   "cell_type": "code",
   "execution_count": null,
   "id": "6e8d0c26",
   "metadata": {
    "pycharm": {
     "name": "#%%\n"
    }
   },
   "outputs": [],
   "source": [
    "# Подсчитываем частоты уникальных значений показателя\n",
    "adults[\"sex\"].value_counts()"
   ]
  },
  {
   "cell_type": "markdown",
   "id": "a0525da6",
   "metadata": {
    "pycharm": {
     "name": "#%% md\n"
    }
   },
   "source": [
    "<h3>Формирование подвыборок/срезов</h3>"
   ]
  },
  {
   "cell_type": "code",
   "execution_count": null,
   "id": "ce77f05a",
   "metadata": {
    "pycharm": {
     "name": "#%%\n"
    }
   },
   "outputs": [],
   "source": [
    "# получаем отдельные столбцы, используя [ [список_имен_показателей] ]\n",
    "\n",
    "adults[[\"age\", \"education\"]]\n",
    "# далее, можно получить нужные строки\n",
    "adults[[\"age\", \"education\"]][0:10:2]"
   ]
  },
  {
   "cell_type": "code",
   "execution_count": null,
   "id": "e6dcebc3",
   "metadata": {
    "pycharm": {
     "name": "#%%\n"
    }
   },
   "outputs": [],
   "source": [
    "# условие для показателя\n",
    "b = adults[\"sex\"] == \"Female\"\n",
    "b[1:5]"
   ]
  },
  {
   "cell_type": "code",
   "execution_count": null,
   "id": "0d7a0277",
   "metadata": {
    "pycharm": {
     "name": "#%%\n"
    }
   },
   "outputs": [],
   "source": [
    "# используем условия для адресации\\отбора строк \n",
    "women = adults[adults[\"sex\"] == \"Female\"][ [\"age\", \"education\"] ]\n",
    "women.head()"
   ]
  },
  {
   "cell_type": "code",
   "execution_count": null,
   "id": "36019548",
   "metadata": {
    "pycharm": {
     "name": "#%%\n"
    }
   },
   "outputs": [],
   "source": [
    "# другой способ формирования подвыборки: функции loc и iloc для набора данных \n",
    "# adults.iloc[0:10, 0:5]\n",
    "adults.loc[adults[\"sex\"] == \"Female\", [\"age\", \"education\"]]"
   ]
  },
  {
   "cell_type": "code",
   "execution_count": null,
   "id": "7a6ca61d",
   "metadata": {
    "pycharm": {
     "name": "#%%\n"
    }
   },
   "outputs": [],
   "source": [
    "# Сколько людей из Кубы?\n",
    "(adults[\"native-country\"] == \"Cuba\").sum()"
   ]
  },
  {
   "cell_type": "code",
   "execution_count": null,
   "id": "a448461c",
   "metadata": {
    "pycharm": {
     "name": "#%%\n"
    }
   },
   "outputs": [],
   "source": [
    "# Комбинируем условия - сколько женщин из Кубы\n",
    "((adults[\"sex\"] == \"Female\") & (adults[\"native-country\"] == \"Cuba\")).sum()"
   ]
  },
  {
   "cell_type": "code",
   "execution_count": null,
   "id": "c41a2fda",
   "metadata": {
    "pycharm": {
     "name": "#%%\n"
    }
   },
   "outputs": [],
   "source": [
    "# Доля от общего числа\n",
    "(adults[\"native-country\"] == \"Cuba\").sum() / adults.shape[0]"
   ]
  },
  {
   "cell_type": "markdown",
   "id": "011d5149",
   "metadata": {
    "pycharm": {
     "name": "#%% md\n"
    }
   },
   "source": [
    "## Описательная статистика\n",
    "### Вычисляем агрегерующие характеристики для выборок"
   ]
  },
  {
   "cell_type": "code",
   "execution_count": null,
   "id": "16724981",
   "metadata": {
    "pycharm": {
     "name": "#%%\n"
    }
   },
   "outputs": [],
   "source": [
    "# Для столбца (или подвыборки) можно подсчитать какую-то агрег. х-ку (min, max, mean, std, ..) \n",
    "round(adults[adults[\"sex\"] == \"Female\"][\"age\"].mean(), 2)"
   ]
  },
  {
   "cell_type": "code",
   "execution_count": null,
   "id": "666487f4",
   "metadata": {
    "pycharm": {
     "name": "#%%\n"
    }
   },
   "outputs": [],
   "source": [
    "# Также можно вычислить набор характеристик через функцию agg\n",
    "# аргумент - функция или список функций\n",
    "adults[adults[\"sex\"] == \"Male\"][\"age\"].agg([np.min, np.mean, np.max])\n"
   ]
  },
  {
   "cell_type": "markdown",
   "id": "3558e749",
   "metadata": {
    "pycharm": {
     "name": "#%% md\n"
    }
   },
   "source": [
    "### Описательная статистика с функцией <i>describe</i>"
   ]
  },
  {
   "cell_type": "code",
   "execution_count": null,
   "id": "71ff8aae",
   "metadata": {
    "pycharm": {
     "name": "#%%\n"
    }
   },
   "outputs": [],
   "source": [
    "# Получение 'описательной статистики' по показателю \"age\" \n",
    "adults[\"age\"].describe()"
   ]
  },
  {
   "cell_type": "code",
   "execution_count": null,
   "id": "3cae51ed",
   "metadata": {
    "pycharm": {
     "name": "#%%\n"
    }
   },
   "outputs": [],
   "source": [
    "# Подсчитываем агрег. х-ки для нескольких выборок\n",
    "ages1 = adults[adults['salary'] == \">50K\"]['age']\n",
    "ages2 = adults[adults['salary'] == \"<=50K\"]['age']\n",
    "print(\n",
    "    \"Средний возраст 'богатых': {0} +- {1} лет, 'бедных': {2} +- {3} лет.\".format(\n",
    "        round(ages1.mean()),\n",
    "        round(ages1.std(), 1),\n",
    "        round(ages2.mean()),\n",
    "        round(ages2.std(), 1)\n",
    "    )\n",
    ")"
   ]
  },
  {
   "cell_type": "markdown",
   "id": "86727104",
   "metadata": {
    "pycharm": {
     "name": "#%% md\n"
    }
   },
   "source": [
    "### unique()"
   ]
  },
  {
   "cell_type": "code",
   "execution_count": null,
   "id": "ac54b7f6",
   "metadata": {
    "pycharm": {
     "name": "#%%\n"
    }
   },
   "outputs": [],
   "source": [
    "# У всех ли 'богатых' есть высшее образование?\n",
    "adults[adults[\"salary\"] == \">50K\"][\"education\"].unique()"
   ]
  },
  {
   "cell_type": "markdown",
   "id": "2de9a50f",
   "metadata": {
    "pycharm": {
     "name": "#%% md\n"
    }
   },
   "source": [
    "### value_counts()"
   ]
  },
  {
   "cell_type": "code",
   "execution_count": null,
   "id": "86e66548",
   "metadata": {
    "pycharm": {
     "name": "#%%\n"
    }
   },
   "outputs": [],
   "source": [
    "# Подсчитаем распределение 'богатых' по уровню образования\n",
    "adults[adults[\"salary\"] == \">50K\"][\"education\"].value_counts()"
   ]
  },
  {
   "cell_type": "markdown",
   "id": "cd5b8207",
   "metadata": {
    "pycharm": {
     "name": "#%% md\n"
    }
   },
   "source": [
    "<h3>Группировка данных</h3>"
   ]
  },
  {
   "cell_type": "code",
   "execution_count": null,
   "id": "94a34d1f",
   "metadata": {
    "pycharm": {
     "name": "#%%\n"
    }
   },
   "outputs": [],
   "source": [
    "# Группируем по 'race' и 'sex'\n",
    "groups = adults.groupby('race')   #[\"race\", \"sex\"])\n",
    "print(\"Всего %d групп\" % len(groups))\n",
    "for race, g in groups:\n",
    "    print(race)"
   ]
  },
  {
   "cell_type": "markdown",
   "id": "7171b750",
   "metadata": {
    "pycharm": {
     "name": "#%% md\n"
    }
   },
   "source": [
    "Каждая группа содержит: ключ и отобранные объекты"
   ]
  },
  {
   "cell_type": "code",
   "execution_count": null,
   "id": "8f01b76b",
   "metadata": {
    "pycharm": {
     "name": "#%%\n"
    }
   },
   "outputs": [],
   "source": [
    "# Отображаем описательную статистику по группам\n",
    "groups = adults.groupby(['race', 'sex'])   #[\"race\", \"sex\"])\n",
    "for (race, sex), g in groups:\n",
    "    print(\"Race: {0:20}  sex: {1:10} mean age: {2:5.2f}\".format(race, sex, g[\"age\"].mean()))\n",
    "  #  print(g[\"age\"].describe())"
   ]
  },
  {
   "cell_type": "markdown",
   "id": "3d09d04b",
   "metadata": {
    "pycharm": {
     "name": "#%% md\n"
    }
   },
   "source": [
    "## Визуализация данных"
   ]
  },
  {
   "cell_type": "code",
   "execution_count": null,
   "id": "70dc85ef",
   "metadata": {
    "pycharm": {
     "name": "#%%\n"
    }
   },
   "outputs": [],
   "source": [
    "import matplotlib.pyplot as plt\n",
    "# при необходимости нужно загрузить пакет в terminal\\cmd\n",
    "# conda install -c conda-forge seaborn\n",
    "import seaborn as sns"
   ]
  },
  {
   "cell_type": "code",
   "execution_count": null,
   "id": "4ca4016f",
   "metadata": {
    "pycharm": {
     "name": "#%%\n"
    }
   },
   "outputs": [],
   "source": [
    "# найстройка для улучшения качества графики\n",
    "# %config InlineBackend.figure_format = 'svg'"
   ]
  },
  {
   "cell_type": "code",
   "execution_count": null,
   "id": "e3a503fc",
   "metadata": {
    "pycharm": {
     "name": "#%%\n"
    }
   },
   "outputs": [],
   "source": [
    "adults[[\"age\", \"hours-per-week\"]].hist(figsize=(10,4))"
   ]
  },
  {
   "cell_type": "code",
   "execution_count": null,
   "id": "4c0f36bd",
   "metadata": {
    "pycharm": {
     "name": "#%%\n"
    }
   },
   "outputs": [],
   "source": [
    "sns.histplot(x = \"hours-per-week\", data = adults, bins = 10, hue = 'sex') "
   ]
  },
  {
   "cell_type": "code",
   "execution_count": null,
   "id": "fb524447",
   "metadata": {
    "pycharm": {
     "name": "#%%\n"
    }
   },
   "outputs": [],
   "source": [
    "adults[\"age\"].describe()"
   ]
  },
  {
   "cell_type": "code",
   "execution_count": null,
   "id": "a9034ad8",
   "metadata": {
    "pycharm": {
     "name": "#%%\n"
    }
   },
   "outputs": [],
   "source": [
    "# диаграмма \"боксплот\" = диаграмма размаха\n",
    "sns.boxplot(x = \"age\",  data = adults)"
   ]
  },
  {
   "cell_type": "code",
   "execution_count": null,
   "id": "1daba35e",
   "metadata": {
    "pycharm": {
     "name": "#%%\n"
    }
   },
   "outputs": [],
   "source": [
    "# создаем диаграммы размаха показателя \"age\" по группам \n",
    "sns.boxplot(x = \"age\", y = \"education\", data = adults)"
   ]
  },
  {
   "cell_type": "code",
   "execution_count": null,
   "id": "ee55f4a2",
   "metadata": {
    "pycharm": {
     "name": "#%%\n"
    }
   },
   "outputs": [],
   "source": [
    "# диаграмма частот для категорийного показателя\n",
    "fig = plt.figure(figsize = (15, 3))\n",
    "sns.countplot(x=\"education\", data = adults)\n"
   ]
  },
  {
   "cell_type": "code",
   "execution_count": null,
   "id": "b90aa8cf",
   "metadata": {
    "pycharm": {
     "name": "#%%\n"
    }
   },
   "outputs": [],
   "source": [
    "# отобразим две диаграммы на одном ряду\n",
    "_, axes = plt.subplots(nrows=1, ncols=2, figsize=(12, 4))\n",
    "\n",
    "sns.countplot(x=\"sex\", data=adults, ax=axes[0])\n",
    "sns.countplot(x=\"salary\", data=adults, ax=axes[1]);"
   ]
  },
  {
   "cell_type": "code",
   "execution_count": null,
   "id": "4b66a469",
   "metadata": {
    "pycharm": {
     "name": "#%%\n"
    }
   },
   "outputs": [],
   "source": [
    "plt.figure(figsize = (10, 3))\n",
    "sns.countplot(x = \"workclass\", data = adults)"
   ]
  },
  {
   "cell_type": "code",
   "execution_count": null,
   "id": "d3ddb9f4",
   "metadata": {
    "pycharm": {
     "name": "#%%\n"
    }
   },
   "outputs": [],
   "source": [
    "plt.figure(figsize = (10, 4))\n",
    "sns.scatterplot(x = \"age\", y = \"hours-per-week\", data = adults)"
   ]
  },
  {
   "cell_type": "code",
   "execution_count": null,
   "id": "11841afe",
   "metadata": {
    "pycharm": {
     "name": "#%%\n"
    }
   },
   "outputs": [],
   "source": [
    "# диаграммы частот с группировкой\n",
    "sns.countplot(x = \"sex\", hue = \"salary\", data = adults)"
   ]
  },
  {
   "cell_type": "code",
   "execution_count": null,
   "id": "89a4e3a7",
   "metadata": {
    "pycharm": {
     "name": "#%%\n"
    }
   },
   "outputs": [],
   "source": [
    "pd.crosstab(adults[\"sex\"], adults[\"salary\"])"
   ]
  }
 ],
 "metadata": {
  "kernelspec": {
   "display_name": "Python 3.6.13 ('env')",
   "language": "python",
   "name": "python3"
  },
  "language_info": {
   "codemirror_mode": {
    "name": "ipython",
    "version": 3
   },
   "file_extension": ".py",
   "mimetype": "text/x-python",
   "name": "python",
   "nbconvert_exporter": "python",
   "pygments_lexer": "ipython3",
   "version": "3.6.13"
  },
  "vscode": {
   "interpreter": {
    "hash": "81187ce6c71fe8aa3acb38681ef4cd98d0650fab0603f7f150325e2c5c53f8cb"
   }
  }
 },
 "nbformat": 4,
 "nbformat_minor": 5
}