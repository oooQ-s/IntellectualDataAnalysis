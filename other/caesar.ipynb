{
 "cells": [
  {
   "cell_type": "code",
   "execution_count": 1,
   "metadata": {},
   "outputs": [],
   "source": [
    "def check(a,b):\n",
    "  try:\n",
    "    c = a.find(b)\n",
    "  except:\n",
    "    c = -1\n",
    "  return c!=-1"
   ]
  },
  {
   "cell_type": "code",
   "execution_count": 2,
   "metadata": {},
   "outputs": [],
   "source": [
    "alph = \"abcdefghijklmnopqrstuvwxyz\"\n",
    "key = \"bread\"\n",
    "shift = 4"
   ]
  },
  {
   "cell_type": "markdown",
   "metadata": {},
   "source": [
    "забиваем алфавит, ключевое слово, сдвиг"
   ]
  },
  {
   "cell_type": "code",
   "execution_count": 4,
   "metadata": {},
   "outputs": [],
   "source": [
    "alph = \"абвгдеёжзийклмнопрстуфхцчшщъыьэюя\"\n",
    "key = \"шифровка\"\n",
    "shift = 3"
   ]
  },
  {
   "cell_type": "markdown",
   "metadata": {},
   "source": [
    "меняем символы алфавита на буквы ключевого слова, дополняем остальными"
   ]
  },
  {
   "cell_type": "code",
   "execution_count": 8,
   "metadata": {},
   "outputs": [
    {
     "name": "stdout",
     "output_type": "stream",
     "text": [
      "абвгдеёжзийклмнопрстуфхцчшщъыьэюя\n",
      "эюяшифровкабгдеёжзйлмнпстухцчщъыь\n"
     ]
    }
   ],
   "source": [
    "cipher = \"\"\n",
    "for i in range(len(key)):\n",
    "  if check(cipher,key[i])==False:\n",
    "    cipher += key[i]\n",
    "for i in range(len(alph)):\n",
    "  if check(cipher,alph[i])==False:\n",
    "    cipher += alph[i]\n",
    "cipher = cipher[len(cipher) - shift:] + cipher[:len(cipher) - shift]\n",
    "print(alph)\n",
    "print(cipher)"
   ]
  },
  {
   "cell_type": "markdown",
   "metadata": {},
   "source": [
    "кодируем текст по шифралфавиту"
   ]
  },
  {
   "cell_type": "code",
   "execution_count": 14,
   "metadata": {},
   "outputs": [
    {
     "name": "stdout",
     "output_type": "stream",
     "text": [
      "бэбёа-лё яфйфгча лфбйл\n"
     ]
    }
   ],
   "source": [
    "msg = \"какой-то веселый текст\"\n",
    "enc = \"\"\n",
    "for i in range(len(msg)):\n",
    "    tmp = alph.find(msg[i])\n",
    "    if(tmp!=-1):\n",
    "        enc+=cipher[alph.find(msg[i])]\n",
    "    else:\n",
    "        enc+=msg[i]\n",
    "print(enc)"
   ]
  }
 ],
 "metadata": {
  "kernelspec": {
   "display_name": "Python 3.9.12 ('base')",
   "language": "python",
   "name": "python3"
  },
  "language_info": {
   "codemirror_mode": {
    "name": "ipython",
    "version": 3
   },
   "file_extension": ".py",
   "mimetype": "text/x-python",
   "name": "python",
   "nbconvert_exporter": "python",
   "pygments_lexer": "ipython3",
   "version": "3.9.12"
  },
  "orig_nbformat": 4,
  "vscode": {
   "interpreter": {
    "hash": "b2a2d0a56c23e8ff240e12265c41bd4cf4ebc4a5bdfa5544f52816f127301f16"
   }
  }
 },
 "nbformat": 4,
 "nbformat_minor": 2
}
