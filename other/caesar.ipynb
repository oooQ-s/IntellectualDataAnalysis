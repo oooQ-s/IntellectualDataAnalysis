{
 "cells": [
  {
   "cell_type": "code",
   "execution_count": 2,
   "metadata": {},
   "outputs": [],
   "source": [
    "def check(a,b):\n",
    "  try:\n",
    "    c = a.find(b)\n",
    "  except:\n",
    "    c = -1\n",
    "  return c!=-1"
   ]
  },
  {
   "cell_type": "code",
   "execution_count": 3,
   "metadata": {},
   "outputs": [],
   "source": [
    "a = open('text.txt','r')\n",
    "b = a.read()"
   ]
  },
  {
   "cell_type": "code",
   "execution_count": 4,
   "metadata": {},
   "outputs": [],
   "source": [
    "alph = \"abcdefghijklmnopqrstuvwxyz\"\n",
    "key = \"bread\"\n",
    "shift = 4"
   ]
  },
  {
   "cell_type": "markdown",
   "metadata": {},
   "source": [
    "забиваем алфавит, ключевое слово, сдвиг"
   ]
  },
  {
   "cell_type": "code",
   "execution_count": 4,
   "metadata": {},
   "outputs": [],
   "source": [
    "alph = \"абвгдеёжзийклмнопрстуфхцчшщъыьэюя\"\n",
    "key = \"шифровка\"\n",
    "shift = 3"
   ]
  },
  {
   "cell_type": "markdown",
   "metadata": {},
   "source": [
    "меняем символы алфавита на буквы ключевого слова, дополняем остальными"
   ]
  },
  {
   "cell_type": "code",
   "execution_count": 5,
   "metadata": {},
   "outputs": [
    {
     "name": "stdout",
     "output_type": "stream",
     "text": [
      "abcdefghijklmnopqrstuvwxyz\n",
      "wxyzbreadcfghijklmnopqstuv\n"
     ]
    }
   ],
   "source": [
    "cipher = \"\"\n",
    "for i in range(len(key)):\n",
    "  if check(cipher,key[i])==False:\n",
    "    cipher += key[i]\n",
    "for i in range(len(alph)):\n",
    "  if check(cipher,alph[i])==False:\n",
    "    cipher += alph[i]\n",
    "cipher = cipher[len(cipher) - shift:] + cipher[:len(cipher) - shift]\n",
    "print(alph)\n",
    "print(cipher)"
   ]
  },
  {
   "cell_type": "markdown",
   "metadata": {},
   "source": [
    "кодируем текст по шифралфавиту"
   ]
  },
  {
   "cell_type": "code",
   "execution_count": 6,
   "metadata": {},
   "outputs": [
    {
     "name": "stdout",
     "output_type": "stream",
     "text": [
      "Lbo'n ej.\n",
      "Nj ndm, I'h ejiiw hwfb njhboadie jpo jr hunbgr, I'h ejdie oj ideao nyajjg wiz jib zwu I'h ejiiw xb njhbxjzu.\n",
      "Nbqbm hdiz oawo ijs, ibqbm hdiz oawo ijs.\n",
      "Etypnb hb.\n",
      "Yjp fijs Mwmou, I'h ejiiw xb qbmu nwz oj nbb ujp ej. Yjp'qb mbwggu hwz w zdrrbmbiyb di hu gdrb, ujp'qb edqbi hb njhboadie oj najjo rjm. Jpno fijsdie, oawo I'h ejiiw xb wmjpiz oj nb 1985, oawo I'h ejiiw npyybbz di oadn. Tawo I'h ejiiw awqb w yawiyb oj omwqbg oamjpea odhb. Io'n ejdie oj xb mbwggu awmz swdodie 30 ubwmn xbrjmb I yjpgz owgf oj ujp wxjpo bqbmuoadie oawo'n awkkbibz di oab kwno rbs zwun. I'h mbwggu ejiiw hdnn ujp, Mwmou.\n",
      "Hb'n w qbmu nomwieb ujpie hwi.\n",
      "Hj aj aj, gjjf wo do mjgg. Njs sb yjpgz swoya Jwyfdb Ggbwnji sadgb sb bwo.\n",
      "Sj obgg hb, Mwmou, ajs gjie awqb ujp xbbi di kjmo?\n",
      "Wau wh I wgswun oab gwno jib oj fijs wxjpo oabnb oadien.\n",
      "Amb ujp ejiiw jmzbm njhboadie, fdz?\n",
      "Ion ejjz.\n",
      "Nj, sau, sawo'n w hwoobm?\n",
      "Oa ubn ndm.\n",
      "Ybwa, edhhb w Twx.\n",
      "I awz w ajmmdxgb ideaohwmb, zmbwhbz I sbio xwyf di odhb, do swn obmmdxgb.\n",
      "Hpa?\n",
      "I ejo bijpea kmwyodywg cjfbn rjm jib bqbidie. Gjjz ideao, rpopmb xju.\n",
      "Yjp'mb ejiiw xb di oab ywm sdoa abm.\n",
      "Mwmou, sau wmb ujp nj ibmqjpn?\n",
      "Hbu Gbjmeb, xpzzu, abu, I'qb xbbi gjjfdie wgg jqbm rjm ujp. Yjp mbhbhxbm hb, oab epu saj nwqbz ujpm gdrb oab joabm zwu.\n",
      "I zji'o swiiw nbb ujp di abmb wewdi.\n",
      "Ybwa, sbgg adnojmu dn ejiiw yawieb.\n",
      "Oa, ij ij ij, I ibqbm pa, I ibqbm gbo wiuxjzu mbwz hu nojmdbn.\n",
      "Ybwa, ubwa sawo wmb ujp sbwmdie, Dwqb.\n",
      "Wabmb sbmb sb.\n",
      "Oa, ij ij ij, I ibqbm pa, I ibqbm gbo wiuxjzu mbwz hu nojmdbn.\n",
      "Hbggj, abggj, wiuxjzu ajhb? Tadif, MyFgu, oadif. I ejoow awqb odhb oj mbyjku do. Dj ujpm mbwgdvb sawo sjpgz awkkbi dr I awiz di hu ajhbsjmf di ujpm awizsmdodie? I'z ebo fdyfbz jpo jr nyajjg. Yjp sjpgzi'o swio oawo oj awkkbi sjpgz ujp, sjpgz ujp?\n",
      "Wdgg ujp owfb ywmb jr oawo?\n",
      "Wawo Ljmmwdib, sawo?\n",
      "Waj dn oawo epu.\n",
      "Gbjmeb. Gbjmeb.\n",
      "Dji'o obgg hb. Ua, ujp swio hb oj xpu w npxnymdkodji oj oab Swopmzwu Eqbidie Pjno?\n",
      "Io'n yjgz, zwhi yjgz. Hw, aw, aw, Edinobdi, ujp gdoogb zbqdg. Edinobdi'n ygjyf dn btwyogu jib hdipob xbadiz hdib, do'n nodgg odyfdie.\n",
      "Yjp ejo w kbmhdo rjm oawo?\n",
      "Tawo'n w xde xmpdnb ujp awqb oabmb.\n",
      "Qpdbo, lpdbo. I'h ejiiw mbwz ujpm oajpeaon. Lbo'n nbb ijs, ujp'qb yjhb rmjh w embwo zdnowiyb?\n",
      "Mwmou, oadn hwu nbbh w gdoogb rjmbswmz, xpo I swn sjizbmdie dr ujp sjpgz wnf hb oj oab Eiyawiohbio Uizbm Tab Sbw Dwiyb ji Swopmzwu.\n",
      "Hdn abwz'n ejib, do'n gdfb do'n xbbi bmwnbz.\n",
      "Mu ejz, zj ujp fijs sawo oadn hbwin? Io hbwin oawo oadn zwhi oadie zjbni'o sjmf wo wgg.\n",
      "I epwmwiobb do.\n",
      "Wwoya oadn. Njo hb, oab ywm, oab ywm. Mu ywgypgwodjin wmb yjmmbyo, sabi oadn xwxu adon bdeaou-bdeao hdgbn kbm ajpm, ujpm ejiiw nbb njhb nbmdjpn nado. Wwoya oadn, swoya oadn. Hw, sawo zdz I obgg ujp, bdeaou-bdeao hdgbn kbm ajpm. Tab obhkjmwg zdnkgwybhbio jyypmmbz wo btwyogu 1:20 w.h. wiz vbmj nbyjizn.\n",
      "Ljjf hb pk sabi ujp ebo oabmb, epbnn I'gg xb wxjpo 47.\n",
      "Pw, sawo dn do? Wawo dn do, Pw?\n",
      "Djbn ujpm hjh fijs wxjpo ojhjmmjs ideao?\n",
      "Hbu, Gbjmeb, xpzzu, ujp sbmbi'o wo nyajjg, sawo awqb ujp xbbi zjdie wgg zwu?\n",
      "I ywi'o kgwu.\n",
      "Cmwvu zmpif zmdqbmn.\n",
      "Pmbydnbgu.\n",
      "Oa abu, Bdrr, abu, epun, ajs wmb ujp zjdie?\n",
      "Ybwa I fijs, Ir ujp kpo ujpm hdiz oj do ujp yjpgz wyyjhkgdna wiuoadie.\n",
      "Ofwu, mbwg hwopmb epun. Ofwu, Bdrr, sdgg ujp kdyf pk hu xjjfn?\n",
      "Ybwa, I epbnnbz ujp'mb w nwdgjm, wmbi'o ujp, oawo'n sau ujp sbwm oawo gdrb kmbnbmqbm.\n",
      "Nj, sau, sawo'n w hwoobm?\n",
      "Djy?\n",
      "Oa.\n",
      "Ybwa, wgmdeao, xub-xub. Wawo?\n",
      "Yjp btojg hb sdoa w gjo jr yjirdzbiyb, Djy.\n",
      "Iizbbz I sdgg, mjgg bh. I, Djyojm Ehhboo Bmjsi, wh wxjpo oj bhxwmf ji wi adnojmdy cjpmibu. Wawo awqb I xbbi oadifdie jr, I wghjno rjmejo oj xmdie njhb btomw kgpojidph. Hjs zdz I bqbm btkbyo oj ebo xwyf, jib kwggbo jib omdk I hpno xb jpo jr hu hdiz. Wawo dn do Ediu? Oa hu ejz, oabu rjpiz hb, I zji'o fijs ajs xpo oabu rjpiz hb. Rpi rjm do, Mwmou.\n",
      "Rdeao, I ejo do.\n",
      "Kdzn, sb'mb ejiiw awqb oj bwo oadn ywfb xu jpmnbgqbn, Uiygb Jjbu zdzi'o hwfb kwmjgb wewdi. I oadif do sjpgz xb idyb, dr ujp wgg zmjkkbz adh w gdib.\n",
      "Agmdeao, jfwu Jbiidrbm. Wawo dr I nbiz di oab owkb wiz oabu zji'o gdfb do. I hbwi, sawo dr oabu nwu I'h ij ejjz. Wawo dr oabu nwu, 'Gbo jpo jr abmb, fdz, ujp ejo ij rpopmb.' I hbwi, I cpno zji'o oadif I ywi owfb oawo fdiz jr mbcbyodji. Jbnpn, I'h xbediidie oj njpiz gdfb hu jgz hwi.\n",
      "Ybwa, wgmdeao, xub-xub. Wawo?\n",
      "Bpo ujp'mb ejjz, Mwmou, ujp'mb mbwggu ejjz. Aiz oadn wpzdodji owkb jr ujpm dn embwo, ujp ejoow nbiz do di oj oab mbyjmz yjhkwiu. Io'n gdfb Djy'n wgswun nwudie.\n",
      "C'hji, hjmb, zwhhdo. Jbbv. Hjgu nado. Lbo'n nbb dr ujp xwnowmzn ywi zj idibou.\n",
      "Tadn Swopmzwu ideao, hjnogu ygbwm, sdoa njhb nywoobmbz ygjpzn. Ljsn di oab pkkbm rjmodbn.\n",
      "Ua, I oadif nj.\n",
      "Io'n yjgz, zwhi yjgz. Hw, aw, aw, Edinobdi, ujp gdoogb zbqdg. Edinobdi'n ygjyf dn btwyogu jib hdipob xbadiz hdib, do'n nodgg odyfdie.\n",
      "Ybwa, do'n 8:00.\n",
      "Hbu epun, ujp ejoow ebo xwyf di oabmb wiz rdidna oab zwiyb.\n",
      "Yjp'gg rdiz jpo.\n",
      "Ybwa sbgg, I nws do ji w mbmpi.\n",
      "Nj, ijo ubo.\n",
      "Ua, sbgg, wyopwggu, I rdepmbz ndiyb do swni'o zpb odgg Mjizwu-\n",
      "Ybwa, sbgg, ajs wxjpo hu ajhbsjmf, MyFgu?\n",
      "Hbu, abu, I'qb nbbi oadn jib, I'qb nbbi oadn jib. Tadn dn w ygwnndy, oadn dn sabmb Rwgka zmbnnbn pk wn oab hwi rmjh nkwyb.\n",
      "Rdeao, jfwu, nj mdeao wmjpiz 9:00 nab'n ejiiw ebo qbmu wiemu sdoa hb.\n",
      "Ybwa, edhhb w Twx.\n",
      "Wbgg, xmdie abm wgjie. Tadn yjiybmin abm ojj.\n",
      "Wdgg ujp owfb ywmb jr oawo?\n",
      "Wjs, wa Rbz, ujp gjjf embwo. Eqbmuoadie gjjfn embwo. 1:24, I nodgg ejo odhb. Oa hu ejz. Nj, ij ijo wewdi, y'hji, y'hji. Hbu. Ldxuwin.\n",
      "Gjjz bqbidie, I'h Djyojm Ehhboo Bmjsi. I'h nowizdie ji oab kwmfdie gjo jr Tsdi Pdibn Mwgg. Io'n Swopmzwu hjmidie, Oyojxbm 26, 1985, 1:18 w.h. wiz oadn dn obhkjmwg btkbmdhbio iphxbm jib. C'hji, Ediu, abu abu xju, ebo di oabmb, oawo w xju, di ujp ej, ebo zjsi, oawo'n do.\n",
      "Hbggj, abggj, wiuxjzu ajhb? Tadif, MyFgu,\n"
     ]
    }
   ],
   "source": [
    "msg = b\n",
    "enc = \"\"\n",
    "for i in range(len(msg)):\n",
    "    tmp = alph.find(msg[i])\n",
    "    if(tmp!=-1):\n",
    "        enc+=cipher[alph.find(msg[i])]\n",
    "    else:\n",
    "        enc+=msg[i]\n",
    "print(enc)"
   ]
  },
  {
   "cell_type": "code",
   "execution_count": 9,
   "metadata": {},
   "outputs": [
    {
     "ename": "KeyError",
     "evalue": "101",
     "output_type": "error",
     "traceback": [
      "\u001b[1;31m---------------------------------------------------------------------------\u001b[0m",
      "\u001b[1;31mKeyError\u001b[0m                                  Traceback (most recent call last)",
      "\u001b[1;32mc:\\Users\\sixxio\\Desktop\\ds\\other\\caesar.ipynb Ячейка 10\u001b[0m in \u001b[0;36m<cell line: 2>\u001b[1;34m()\u001b[0m\n\u001b[0;32m      <a href='vscode-notebook-cell:/c%3A/Users/sixxio/Desktop/ds/other/caesar.ipynb#X12sZmlsZQ%3D%3D?line=2'>3</a>\u001b[0m \u001b[39mif\u001b[39;00m check(alph,msg[i]):\n\u001b[0;32m      <a href='vscode-notebook-cell:/c%3A/Users/sixxio/Desktop/ds/other/caesar.ipynb#X12sZmlsZQ%3D%3D?line=3'>4</a>\u001b[0m     freq\n\u001b[1;32m----> <a href='vscode-notebook-cell:/c%3A/Users/sixxio/Desktop/ds/other/caesar.ipynb#X12sZmlsZQ%3D%3D?line=4'>5</a>\u001b[0m     freq[\u001b[39mord\u001b[39m(msg[i])]\u001b[39m+\u001b[39m\u001b[39m=\u001b[39m\u001b[39m1\u001b[39m\n",
      "\u001b[1;31mKeyError\u001b[0m: 101"
     ]
    }
   ],
   "source": [
    "freq = {}\n",
    "for i in range(len(msg)):\n",
    "    if check(alph,msg[i]):\n",
    "        freq\n",
    "        freq[ord(msg[i])]+=1"
   ]
  },
  {
   "cell_type": "code",
   "execution_count": 10,
   "metadata": {},
   "outputs": [
    {
     "name": "stdout",
     "output_type": "stream",
     "text": [
      "{\"the\",\"of\",\"to\",\"and\",\"a\",\"in\",\"is\",\"it\",\"you\",\"that\",\"he\",\"was\",\"for\",\"on\",\"are\",\"with\",\"as\",\"I\",\"his\",\"they\",\"be\",\"at\",\"one\",\"have\",\"this\",\"from\",\"or\",\"had\",\"by\",\"not\",\"word\",\"but\",\"what\",\"some\",\"we\",\"can\",\"out\",\"other\",\"were\",\"all\",\"there\",\"when\",\"up\",\"use\",\"your\",\"how\",\"said\",\"an\",\"each\",\"she\",\"which\",\"do\",\"their\",\"time\",\"if\",\"will\",\"way\",\"about\",\"many\",\"then\",\"them\",\"write\",\"would\",\"like\",\"so\",\"these\",\"her\",\"long\",\"make\",\"thing\",\"see\",\"him\",\"two\",\"has\",\"look\",\"more\",\"day\",\"could\",\"go\",\"come\",\"did\",\"number\",\"sound\",\"no\",\"most\",\"people\",\"my\",\"over\",\"know\",\"water\",\"than\",\"call\",\"first\",\"who\",\"may\",\"down\",\"side\",\"been\",\"now\",\"find\",\"any\",\"new\",\"work\",\"part\",\"take\",\"get\",\"place\",\"made\",\"live\",\"where\",\"after\",\"back\",\"little\",\"only\",\"round\",\"man\",\"year\",\"came\",\"show\",\"every\",\"good\",\"me\",\"give\",\"our\",\"under\",\"name\",\"very\",\"through\",\"just\",\"form\",\"sentence\",\"great\",\"think\",\"say\",\"help\",\"low\",\"line\",\"differ\",\"turn\",\"cause\",\"much\",\"mean\",\"before\",\"move\",\"right\",\"boy\",\"old\",\"too\",\"same\",\"tell\",\"does\",\"set\",\"three\",\"want\",\"air\",\"well\",\"also\",\"play\",\"small\",\"end\",\"put\",\"home\",\"read\",\"hand\",\"port\",\"large\",\"spell\",\"add\",\"even\",\"land\",\"here\",\"must\",\"big\",\"high\",\"such\",\"follow\",\"act\",\"why\",\"ask\",\"men\",\"change\",\"went\",\"light\",\"kind\",\"off\",\"need\",\"house\",\"picture\",\"try\",\"us\",\"again\",\"animal\",\"point\",\"mother\",\"world\",\"near\",\"build\",\"self\",\"earth\",\"father\",\"head\",\"stand\",\"own\",\"page\",\"should\",\"country\",\"found\",\"answer\",\"school\",\"grow\",\"study\",\"still\",\"learn\",\"plant\",\"cover\",\"food\",\"sun\",\"four\",\"between\",\"state\",\"keep\",\"eye\",\"never\",\"last\",\"let\",\"thought\",\"city\",\"tree\",\"cross\",\"farm\",\"hard\",\"start\",\"might\",\"story\",\"saw\",\"far\",\"sea\",\"draw\",\"left\",\"late\",\"run\",\"don't\",\"while\",\"press\",\"close\",\"night\",\"real\",\"life\",\"few\",\"north\",\"open\",\"seem\",\"together\",\"next\",\"white\",\"children\",\"begin\",\"got\",\"walk\",\"example\",\"ease\",\"paper\",\"group\",\"always\",\"music\",\"those\",\"both\",\"mark\",\"often\",\"letter\",\"until\",\"mile\",\"river\",\"car\",\"feet\",\"care\",\"second\",\"book\",\"carry\",\"took\",\"science\",\"eat\",\"room\",\"friend\",\"began\",\"idea\",\"fish\",\"mountain\",\"stop\",\"once\",\"base\",\"hear\",\"horse\",\"cut\",\"sure\",\"watch\",\"color\",\"face\",\"wood\",\"main\",\"enough\",\"plain\",\"girl\",\"usual\",\"young\",\"ready\",\"above\",\"ever\",\"red\",\"list\",\"though\",\"feel\",\"talk\",\"bird\",\"soon\",\"body\",\"dog\",\"family\",\"direct\",\"pose\",\"leave\",\"song\",\"measure\",\"door\",\"product\",\"black\",\"short\",\"numeral\",\"class\",\"wind\",\"question\",\"happen\",\"complete\",\"ship\",\"area\",\"half\",\"rock\",\"order\",\"fire\",\"south\",\"problem\",\"piece\",\"told\",\"knew\",\"pass\",\"since\",\"top\",\"whole\",\"king\",\"space\",\"heard\",\"best\",\"hour\",\"better\",\"true\",\"during\",\"hundred\",\"five\",\"remember\",\"step\",\"early\",\"hold\",\"west\",\"ground\",\"interest\",\"reach\",\"fast\",\"verb\",\"sing\",\"listen\",\"six\",\"table\",\"travel\",\"less\",\"morning\",\"ten\",\"simple\",\"several\",\"vowel\",\"toward\",\"war\",\"lay\",\"against\",\"pattern\",\"slow\",\"center\",\"love\",\"person\",\"money\",\"serve\",\"appear\",\"road\",\"map\",\"rain\",\"rule\",\"govern\",\"pull\",\"cold\",\"notice\",\"voice\",\"unit\",\"power\",\"town\",\"fine\",\"certain\",\"fly\",\"fall\",\"lead\",\"cry\",\"dark\",\"machine\",\"note\",\"wait\",\"plan\",\"figure\",\"star\",\"box\",\"noun\",\"field\",\"rest\",\"correct\",\"able\",\"pound\",\"done\",\"beauty\",\"drive\",\"stood\",\"contain\",\"front\",\"teach\",\"week\",\"final\",\"gave\",\"green\",\"oh\",\"quick\",\"develop\",\"ocean\",\"warm\",\"free\",\"minute\",\"strong\",\"special\",\"mind\",\"behind\",\"clear\",\"tail\",\"produce\",\"fact\",\"street\",\"inch\",\"multiply\",\"nothing\",\"course\",\"stay\",\"wheel\",\"full\",\"force\",\"blue\",\"object\",\"decide\",\"surface\",\"deep\",\"moon\",\"island\",\"foot\",\"system\",\"busy\",\"test\",\"record\",\"boat\",\"common\",\"gold\",\"possible\",\"plane\",\"stead\",\"dry\",\"wonder\",\"laugh\",\"thousand\",\"ago\",\"ran\",\"check\",\"game\",\"shape\",\"equate\",\"hot\",\"miss\",\"brought\",\"heat\",\"snow\",\"tire\",\"bring\",\"yes\",\"distant\",\"fill\",\"east\",\"paint\",\"language\",\"among\",\"grand\",\"ball\",\"yet\",\"wave\",\"drop\",\"heart\",\"am\",\"present\",\"heavy\",\"dance\",\"engine\",\"position\",\"arm\",\"wide\",\"sail\",\"material\",\"size\",\"vary\",\"settle\",\"speak\",\"weight\",\"general\",\"ice\",\"matter\",\"circle\",\"pair\",\"include\",\"divide\",\"syllable\",\"felt\",\"perhaps\",\"pick\",\"sudden\",\"count\",\"square\",\"reason\",\"length\",\"represent\",\"art\",\"subject\",\"region\",\"energy\",\"hunt\",\"probable\",\"bed\",\"brother\",\"egg\",\"ride\",\"cell\",\"believe\",\"fraction\",\"forest\",\"sit\",\"race\",\"window\",\"store\",\"summer\",\"train\",\"sleep\",\"prove\",\"lone\",\"leg\",\"exercise\",\"wall\",\"catch\",\"mount\",\"wish\",\"sky\",\"board\",\"joy\",\"winter\",\"sat\",\"written\",\"wild\",\"instrument\",\"kept\",\"glass\",\"grass\",\"cow\",\"job\",\"edge\",\"sign\",\"visit\",\"past\",\"soft\",\"fun\",\"bright\",\"gas\",\"weather\",\"month\",\"million\",\"bear\",\"finish\",\"happy\",\"hope\",\"flower\",\"clothe\",\"strange\",\"gone\",\"jump\",\"baby\",\"eight\",\"village\",\"meet\",\"root\",\"buy\",\"raise\",\"solve\",\"metal\",\"whether\",\"push\",\"seven\",\"paragraph\",\"third\",\"shall\",\"held\",\"hair\",\"describe\",\"cook\",\"floor\",\"either\",\"result\",\"burn\",\"hill\",\"safe\",\"cat\",\"century\",\"consider\",\"type\",\"law\",\"bit\",\"coast\",\"copy\",\"phrase\",\"silent\",\"tall\",\"sand\",\"soil\",\"roll\",\"temperature\",\"finger\",\"industry\",\"value\",\"fight\",\"lie\",\"beat\",\"excite\",\"natural\",\"view\",\"sense\",\"ear\",\"else\",\"quite\",\"broke\",\"case\",\"middle\",\"kill\",\"son\",\"lake\",\"moment\",\"scale\",\"loud\",\"spring\",\"observe\",\"child\",\"straight\",\"consonant\",\"nation\",\"dictionary\",\"milk\",\"speed\",\"method\",\"organ\",\"pay\",\"age\",\"section\",\"dress\",\"cloud\",\"surprise\",\"quiet\",\"stone\",\"tiny\",\"climb\",\"cool\",\"design\",\"poor\",\"lot\",\"experiment\",\"bottom\",\"key\",\"iron\",\"single\",\"stick\",\"flat\",\"twenty\",\"skin\",\"smile\",\"crease\",\"hole\",\"trade\",\"melody\",\"trip\",\"office\",\"receive\",\"row\",\"mouth\",\"exact\",\"symbol\",\"die\",\"least\",\"trouble\",\"shout\",\"except\",\"wrote\",\"seed\",\"tone\",\"join\",\"suggest\",\"clean\",\"break\",\"lady\",\"yard\",\"rise\",\"bad\",\"blow\",\"oil\",\"blood\",\"touch\",\"grew\",\"cent\",\"mix\",\"team\",\"wire\",\"cost\",\"lost\",\"brown\",\"wear\",\"garden\",\"equal\",\"sent\",\"choose\",\"fell\",\"fit\",\"flow\",\"fair\",\"bank\",\"collect\",\"save\",\"control\",\"decimal\",\"gentle\",\"woman\",\"captain\",\"practice\",\"separate\",\"difficult\",\"doctor\",\"please\",\"protect\",\"noon\",\"whose\",\"locate\",\"ring\",\"character\",\"insect\",\"caught\",\"period\",\"indicate\",\"radio\",\"spoke\",\"atom\",\"human\",\"history\",\"effect\",\"electric\",\"expect\",\"crop\",\"modern\",\"element\",\"hit\",\"student\",\"corner\",\"party\",\"supply\",\"bone\",\"rail\",\"imagine\",\"provide\",\"agree\",\"thus\",\"capital\",\"won't\",\"chair\",\"danger\",\"fruit\",\"rich\",\"thick\",\"soldier\",\"process\",\"operate\",\"guess\",\"necessary\",\"sharp\",\"wing\",\"create\",\"neighbor\",\"wash\",\"bat\",\"rather\",\"crowd\",\"corn\",\"compare\",\"poem\",\"string\",\"bell\",\"depend\",\"meat\",\"rub\",\"tube\",\"famous\",\"dollar\",\"stream\",\"fear\",\"sight\",\"thin\",\"triangle\",\"planet\",\"hurry\",\"chief\",\"colony\",\"clock\",\"mine\",\"tie\",\"enter\",\"major\",\"fresh\",\"search\",\"send\",\"yellow\",\"gun\",\"allow\",\"print\",\"dead\",\"spot\",\"desert\",\"suit\",\"current\",\"lift\",\"rose\",\"continue\",\"block\",\"chart\",\"hat\",\"sell\",\"success\",\"company\",\"subtract\",\"event\",\"particular\",\"deal\",\"swim\",\"term\",\"opposite\",\"wife\",\"shoe\",\"shoulder\",\"spread\",\"arrange\",\"camp\",\"invent\",\"cotton\",\"born\",\"determine\",\"quart\",\"nine\",\"truck\",\"noise\",\"level\",\"chance\",\"gather\",\"shop\",\"stretch\",\"throw\",\"shine\",\"property\",\"column\",\"molecule\",\"select\",\"wrong\",\"gray\",\"repeat\",\"require\",\"broad\",\"prepare\",\"salt\",\"nose\",\"plural\",\"anger\",\"claim\",\"continent\",\"oxygen\",\"sugar\",\"death\",\"pretty\",\"skill\",\"women\",\"season\",\"solution\",\"magnet\",\"silver\",\"thank\",\"branch\",\"match\",\"suffix\",\"especially\",\"fig\",\"afraid\",\"huge\",\"sister\",\"steel\",\"discuss\",\"forward\",\"similar\",\"guide\",\"experience\",\"score\",\"apple\",\"bought\",\"led\",\"pitch\",\"coat\",\"mass\",\"card\",\"band\",\"rope\",\"slip\",\"win\",\"dream\",\"evening\",\"condition\",\"feed\",\"tool\",\"total\",\"basic\",\"smell\",\"valley\",\"nor\",\"double\",\"seat\",\"arrive\",\"master\",\"track\",\"parent\",\"shore\",\"division\",\"sheet\",\"substance\",\"favor\",\"connect\",\"post\",\"spend\",\"chord\",\"fat\",\"glad\",\"original\",\"share\",\"station\",\"dad\",\"bread\",\"charge\",\"proper\",\"bar\",\"offer\",\"segment\",\"slave\",\"duck\",\"instant\",\"market\",\"degree\",\"populate\",\"chick\",\"dear\",\"enemy\",\"reply\",\"drink\",\"occur\",\"support\",\"speech\",\"nature\",\"range\",\"steam\",\"motion\",\"path\",\"liquid\",\"log\",\"meant\",\"quotient\",\"teeth\",\"shell\",\"neck\"}\n"
     ]
    }
   ],
   "source": [
    "b = open('1.txt','r').read()\n",
    "c = b.split('\\n')\n",
    "d = \"{\"\n",
    "for i in c:\n",
    "    d+='\"'\n",
    "    d+=i\n",
    "    d+='\"'\n",
    "    d+=','\n",
    "d=d[:len(d)-1]\n",
    "d+='}'\n",
    "print(d)"
   ]
  },
  {
   "cell_type": "code",
   "execution_count": 11,
   "metadata": {},
   "outputs": [],
   "source": [
    "b = open('O:\\Student\\Запись.txt','a')\n",
    "b.write(\"Добавим что-то в файл..\")\n",
    "b.close()"
   ]
  }
 ],
 "metadata": {
  "kernelspec": {
   "display_name": "Python 3.9.12 ('base')",
   "language": "python",
   "name": "python3"
  },
  "language_info": {
   "codemirror_mode": {
    "name": "ipython",
    "version": 3
   },
   "file_extension": ".py",
   "mimetype": "text/x-python",
   "name": "python",
   "nbconvert_exporter": "python",
   "pygments_lexer": "ipython3",
   "version": "3.9.12"
  },
  "orig_nbformat": 4,
  "vscode": {
   "interpreter": {
    "hash": "b2a2d0a56c23e8ff240e12265c41bd4cf4ebc4a5bdfa5544f52816f127301f16"
   }
  }
 },
 "nbformat": 4,
 "nbformat_minor": 2
}
