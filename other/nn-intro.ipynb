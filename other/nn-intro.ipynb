{
 "cells": [
  {
   "cell_type": "code",
   "execution_count": 1,
   "metadata": {},
   "outputs": [],
   "source": [
    "import numpy as np\n",
    "import random as rd"
   ]
  },
  {
   "cell_type": "code",
   "execution_count": 2,
   "metadata": {},
   "outputs": [],
   "source": [
    "INPUT_DIM = 4\n",
    "OUT_DIM = 3\n",
    "H_DIM = 10"
   ]
  },
  {
   "cell_type": "code",
   "execution_count": null,
   "metadata": {},
   "outputs": [],
   "source": [
    "x = []\n",
    "for i in range(4):\n",
    "    x.append(float(input()))\n",
    "print(x)"
   ]
  },
  {
   "cell_type": "code",
   "execution_count": 4,
   "metadata": {},
   "outputs": [
    {
     "name": "stdout",
     "output_type": "stream",
     "text": [
      "[5.1, 3.5, 1.4, 0.2]\n"
     ]
    }
   ],
   "source": [
    "# Рандомно вводим значения гиперпараметров:\n",
    "x = np.random.randn(INPUT_DIM)\n",
    "w1 = np.random.randn(INPUT_DIM, H_DIM)\n",
    "b1 = np.random.randn(H_DIM)\n",
    "w2 = np.random.randn(H_DIM, OUT_DIM)\n",
    "b2 = np.random.randn(OUT_DIM)"
   ]
  },
  {
   "cell_type": "code",
   "execution_count": 5,
   "metadata": {},
   "outputs": [],
   "source": [
    "def relu(t):\n",
    "    print('relu:1', np.maximum(t, 0))\n",
    "    return np.maximum(t, 0)\n",
    "\n",
    "def softmax(t):\n",
    "    out = np.exp(t)\n",
    "    print('softmax:', out / np.sum(out))\n",
    "    return out / np.sum(out)\n",
    "\n",
    "def predict(x):\n",
    "    t1 = x @ w1 + b1\n",
    "    h1 = relu(t1)\n",
    "    t2 = h1 @ w2 + b2\n",
    "    z = softmax(t2)\n",
    "    print('z =1', z)\n",
    "    return z"
   ]
  },
  {
   "cell_type": "code",
   "execution_count": 7,
   "metadata": {},
   "outputs": [
    {
     "name": "stdout",
     "output_type": "stream",
     "text": [
      "relu:1 [4.79286226 0.         0.         1.94192803 0.         1.17713551\n",
      " 0.         2.08936218 0.         0.63224539]\n",
      "relu:1 [4.79286226 0.         0.         1.94192803 0.         1.17713551\n",
      " 0.         2.08936218 0.         0.63224539]\n",
      "softmax: [6.99206472e-05 5.38682157e-03 9.94543258e-01]\n",
      "z =1 [6.99206472e-05 5.38682157e-03 9.94543258e-01]\n",
      "Predicted: Virginica\n"
     ]
    }
   ],
   "source": [
    "tl = x @ w1 + b1\n",
    "hl = relu(tl)\n",
    "\n",
    "probs = predict(x)\n",
    "pred_class = np.argmax(probs)\n",
    "class_names = ['Setosa', 'Versicolor', 'Virginica']\n",
    "print('Predicted:', class_names[pred_class])"
   ]
  }
 ],
 "metadata": {
  "kernelspec": {
   "display_name": "Python 3.9.12 ('base')",
   "language": "python",
   "name": "python3"
  },
  "language_info": {
   "codemirror_mode": {
    "name": "ipython",
    "version": 3
   },
   "file_extension": ".py",
   "mimetype": "text/x-python",
   "name": "python",
   "nbconvert_exporter": "python",
   "pygments_lexer": "ipython3",
   "version": "3.9.12"
  },
  "orig_nbformat": 4,
  "vscode": {
   "interpreter": {
    "hash": "b2a2d0a56c23e8ff240e12265c41bd4cf4ebc4a5bdfa5544f52816f127301f16"
   }
  }
 },
 "nbformat": 4,
 "nbformat_minor": 2
}
