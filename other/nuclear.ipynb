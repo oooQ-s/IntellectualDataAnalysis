{
 "cells": [
  {
   "cell_type": "code",
   "execution_count": 18,
   "metadata": {},
   "outputs": [
    {
     "name": "stdout",
     "output_type": "stream",
     "text": [
      "Pheat =  274268160000000.03 MBt, Nel =  5.713348608e+26 MBt\n"
     ]
    }
   ],
   "source": [
    "ndiv = 0.992*(10**20)\n",
    "nDivPerSec = ndiv*24*60*60\n",
    "ef = 200\n",
    "comp = 1.6*(10**-13)\n",
    "nu = 33.33\n",
    "\n",
    "Pheat = ef*nDivPerSec\n",
    "PheatMWT = Pheat * comp\n",
    "CPD = Pheat * nu / 100\n",
    "\n",
    "print('Pheat = ', PheatMWT, 'MBt,', 'Nel = ', CPD, 'MBt')"
   ]
  },
  {
   "cell_type": "code",
   "execution_count": 75,
   "metadata": {},
   "outputs": [
    {
     "name": "stdout",
     "output_type": "stream",
     "text": [
      "Pheat =  3000.0000000000005 MBt, Nel =  1086.0000000000002 MBt\n"
     ]
    }
   ],
   "source": [
    "ndivPerDay = 8.1*10**24\n",
    "nDivPerSec = ndivPerDay/(24*60*60) # define only one from\n",
    "ndivPerSec = 0.992*(10**20)\n",
    "ef = 200\n",
    "comp = 1.6*(10**-13)\n",
    "nu = 36.2\n",
    "\n",
    "Pheat = ef*nDivPerSec\n",
    "PheatWT = Pheat * comp\n",
    "CPDWT = PheatWT * nu / 100\n",
    "\n",
    "print('Pheat = ', PheatWT/10**6, 'MBt,', 'Nel = ', CPDWT/10**6, 'MBt')"
   ]
  },
  {
   "cell_type": "code",
   "execution_count": 78,
   "metadata": {},
   "outputs": [
    {
     "name": "stdout",
     "output_type": "stream",
     "text": [
      "3174.4000000000005 1149.1328000000003\n"
     ]
    }
   ],
   "source": [
    "n=0.992*10**20\n",
    "p=n*200*(1.6*10**-13)\n",
    "c=p*36.2/100\n",
    "print(p/10**6, c/10**6)"
   ]
  },
  {
   "cell_type": "code",
   "execution_count": 81,
   "metadata": {},
   "outputs": [
    {
     "name": "stdout",
     "output_type": "stream",
     "text": [
      "5.59296e+38 1.5100992000000002e+40\n"
     ]
    }
   ],
   "source": [
    "n5 = 1.2*10**20\n",
    "sigmf5 = 582.6\n",
    "phi = 4*10**13\n",
    "v = 27\n",
    "ef = 200\n",
    "q=n5*sigmf5*phi*ef\n",
    "p=q*v\n",
    "print(q,p)"
   ]
  },
  {
   "cell_type": "code",
   "execution_count": 94,
   "metadata": {},
   "outputs": [
    {
     "name": "stdout",
     "output_type": "stream",
     "text": [
      "89.48736 2416.15872\n"
     ]
    }
   ],
   "source": [
    "n5 = 1.2*10**20\n",
    "sigmf5 = 582.6*10**-24\n",
    "\n",
    "v1 = 2.2*10**5\n",
    "n=10**6\n",
    "v = 27\n",
    "ef = 200*1.6*10**-13\n",
    "phi =4*10**13\n",
    "q=n5*sigmf5*phi*ef\n",
    "p=q*v\n",
    "print(q,p)"
   ]
  },
  {
   "cell_type": "code",
   "execution_count": null,
   "metadata": {},
   "outputs": [],
   "source": [
    "d = 4 *1000/3600 # кг/c\n",
    "p2s = 157 # Н/см2\n",
    "dt = 10 # К (Tw-Ts)\n",
    "\n",
    "r = 1592.7\n",
    "Q = d * r\n"
   ]
  },
  {
   "cell_type": "code",
   "execution_count": 2,
   "metadata": {},
   "outputs": [
    {
     "data": {
      "text/plain": [
       "5.837860881574439e-21"
      ]
     },
     "execution_count": 2,
     "metadata": {},
     "output_type": "execute_result"
    }
   ],
   "source": [
    "384648.3**-3.33/43.2"
   ]
  },
  {
   "cell_type": "code",
   "execution_count": 6,
   "metadata": {},
   "outputs": [
    {
     "data": {
      "text/plain": [
       "1.096737950195616"
      ]
     },
     "execution_count": 6,
     "metadata": {},
     "output_type": "execute_result"
    }
   ],
   "source": [
    "(1.57)**0.14+0.0128*(1.57)**2"
   ]
  },
  {
   "cell_type": "code",
   "execution_count": 17,
   "metadata": {},
   "outputs": [],
   "source": [
    "tct = 1/24/60/6 # сут\n",
    "t = 150 # сут\n",
    "N0 = 2000 # мвт"
   ]
  },
  {
   "cell_type": "code",
   "execution_count": 18,
   "metadata": {},
   "outputs": [
    {
     "data": {
      "text/plain": [
       "76.0409286208003"
      ]
     },
     "execution_count": 18,
     "metadata": {},
     "output_type": "execute_result"
    }
   ],
   "source": [
    "N = 6.6*10**-3*(tct**-0.2-(tct+t)**-0.2)*N0\n",
    "N # мвт"
   ]
  },
  {
   "cell_type": "code",
   "execution_count": 76,
   "metadata": {},
   "outputs": [
    {
     "data": {
      "text/plain": [
       "0.029685090959999997"
      ]
     },
     "execution_count": 76,
     "metadata": {},
     "output_type": "execute_result"
    }
   ],
   "source": [
    "ms = 113 # массовое число\n",
    "t12 = 14.1 # период полураспада\n",
    "a = {}\n",
    "a[0] = 11.7 # активность при времени выдержки (табличная) | 10 лет\n",
    "a[1] = 0.61 # активность при времени выдержки (табличная)| 30 лет \n",
    "mo = 600\n",
    "\n",
    "mt = 2.8*10**-6*ms*t12*(a[0]-a[1])*mo/1000 # суммарное содержание через 10 лет, кг\n",
    "mt"
   ]
  },
  {
   "cell_type": "code",
   "execution_count": 73,
   "metadata": {},
   "outputs": [
    {
     "data": {
      "text/plain": [
       "0.175"
      ]
     },
     "execution_count": 73,
     "metadata": {},
     "output_type": "execute_result"
    }
   ],
   "source": [
    "mit = (0.96 - 0.71)*mo/1000\n",
    "mit"
   ]
  }
 ],
 "metadata": {
  "kernelspec": {
   "display_name": "Python 3.9.12 ('base')",
   "language": "python",
   "name": "python3"
  },
  "language_info": {
   "codemirror_mode": {
    "name": "ipython",
    "version": 3
   },
   "file_extension": ".py",
   "mimetype": "text/x-python",
   "name": "python",
   "nbconvert_exporter": "python",
   "pygments_lexer": "ipython3",
   "version": "3.9.12"
  },
  "orig_nbformat": 4,
  "vscode": {
   "interpreter": {
    "hash": "b2a2d0a56c23e8ff240e12265c41bd4cf4ebc4a5bdfa5544f52816f127301f16"
   }
  }
 },
 "nbformat": 4,
 "nbformat_minor": 2
}
