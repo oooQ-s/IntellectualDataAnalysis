{
 "cells": [
  {
   "cell_type": "markdown",
   "id": "atlantic-russell",
   "metadata": {},
   "source": [
    "# 1. Выбор и преобразование данных для анализа"
   ]
  },
  {
   "cell_type": "markdown",
   "id": "electrical-thanks",
   "metadata": {},
   "source": [
    "Подключаю необходимые библиотеки"
   ]
  },
  {
   "cell_type": "code",
   "execution_count": 1,
   "id": "fuzzy-species",
   "metadata": {},
   "outputs": [],
   "source": [
    "import pandas as pd, numpy as np\n",
    "import matplotlib.pyplot as plt, plotly.express as px\n",
    "from sklearn import tree,ensemble,model_selection,metrics,neighbors\n",
    "from warnings import filterwarnings as fw\n",
    "fw('ignore')"
   ]
  },
  {
   "cell_type": "markdown",
   "id": "monetary-carnival",
   "metadata": {},
   "source": [
    "Преобразую тестовую и тренировочную выборки: уберу незначащие столбцы, а также преобразую пол в набор бинарных значений. Оставил столбцы Класс обслуживания, Возраст, Цена за билет и Пол (в тренировочной еще бинарный набор выжил/невыжил)."
   ]
  },
  {
   "cell_type": "code",
   "execution_count": 2,
   "id": "medium-parallel",
   "metadata": {
    "scrolled": false
   },
   "outputs": [
    {
     "data": {
      "text/html": [
       "<div>\n",
       "<style scoped>\n",
       "    .dataframe tbody tr th:only-of-type {\n",
       "        vertical-align: middle;\n",
       "    }\n",
       "\n",
       "    .dataframe tbody tr th {\n",
       "        vertical-align: top;\n",
       "    }\n",
       "\n",
       "    .dataframe thead th {\n",
       "        text-align: right;\n",
       "    }\n",
       "</style>\n",
       "<table border=\"1\" class=\"dataframe\">\n",
       "  <thead>\n",
       "    <tr style=\"text-align: right;\">\n",
       "      <th></th>\n",
       "      <th>Survived</th>\n",
       "      <th>Pclass</th>\n",
       "      <th>Age</th>\n",
       "      <th>Fare</th>\n",
       "      <th>sex1</th>\n",
       "    </tr>\n",
       "  </thead>\n",
       "  <tbody>\n",
       "    <tr>\n",
       "      <th>0</th>\n",
       "      <td>0</td>\n",
       "      <td>3</td>\n",
       "      <td>22.0</td>\n",
       "      <td>7.2500</td>\n",
       "      <td>0</td>\n",
       "    </tr>\n",
       "    <tr>\n",
       "      <th>1</th>\n",
       "      <td>1</td>\n",
       "      <td>1</td>\n",
       "      <td>38.0</td>\n",
       "      <td>71.2833</td>\n",
       "      <td>1</td>\n",
       "    </tr>\n",
       "    <tr>\n",
       "      <th>2</th>\n",
       "      <td>1</td>\n",
       "      <td>3</td>\n",
       "      <td>26.0</td>\n",
       "      <td>7.9250</td>\n",
       "      <td>1</td>\n",
       "    </tr>\n",
       "    <tr>\n",
       "      <th>3</th>\n",
       "      <td>1</td>\n",
       "      <td>1</td>\n",
       "      <td>35.0</td>\n",
       "      <td>53.1000</td>\n",
       "      <td>1</td>\n",
       "    </tr>\n",
       "    <tr>\n",
       "      <th>4</th>\n",
       "      <td>0</td>\n",
       "      <td>3</td>\n",
       "      <td>35.0</td>\n",
       "      <td>8.0500</td>\n",
       "      <td>0</td>\n",
       "    </tr>\n",
       "  </tbody>\n",
       "</table>\n",
       "</div>"
      ],
      "text/plain": [
       "   Survived  Pclass   Age     Fare  sex1\n",
       "0         0       3  22.0   7.2500     0\n",
       "1         1       1  38.0  71.2833     1\n",
       "2         1       3  26.0   7.9250     1\n",
       "3         1       1  35.0  53.1000     1\n",
       "4         0       3  35.0   8.0500     0"
      ]
     },
     "execution_count": 2,
     "metadata": {},
     "output_type": "execute_result"
    }
   ],
   "source": [
    "data = pd.read_csv('train.csv')\n",
    "#data.head()\n",
    "data=data.drop(columns=['PassengerId','Name','Parch','Ticket','Cabin','Embarked','SibSp']);\n",
    "#data_train.head()\n",
    "data['sex1']=np.where(data['Sex']==\"male\",0,1)\n",
    "data=data.drop(columns='Sex')\n",
    "data.head()"
   ]
  },
  {
   "cell_type": "markdown",
   "id": "cooperative-charles",
   "metadata": {},
   "source": [
    "Отберем в отдельные датафреймы характеристики объектов и метки классов.\n",
    "Затем поделим датасет на обучающую и тестовую выборки в классическом соотношении 1:4."
   ]
  },
  {
   "cell_type": "code",
   "execution_count": 7,
   "id": "chubby-syndicate",
   "metadata": {},
   "outputs": [
    {
     "name": "stdout",
     "output_type": "stream",
     "text": [
      "xtrain:  (571, 4) ytrain:  (571, 1) \n",
      "xtest:  (143, 4) ytest:  (143, 1)\n"
     ]
    }
   ],
   "source": [
    "data=data.dropna()\n",
    "x = data.iloc[:,1:]\n",
    "y = data.iloc[:,:1]\n",
    "xtrain,xtest,ytrain,ytest = model_selection.train_test_split(x,y,test_size=0.2)\n",
    "print('xtrain: ', xtrain.shape, 'ytrain: ', ytrain.shape, '\\nxtest: ', xtest.shape, 'ytest: ', ytest.shape)\n",
    "ytest=ytest.to_numpy().flatten()"
   ]
  },
  {
   "cell_type": "code",
   "execution_count": 4,
   "id": "superior-curtis",
   "metadata": {
    "scrolled": true
   },
   "outputs": [
    {
     "name": "stdout",
     "output_type": "stream",
     "text": [
      "(714, 1)\n"
     ]
    }
   ],
   "source": [
    "print(y.shape)"
   ]
  },
  {
   "cell_type": "markdown",
   "id": "weird-layer",
   "metadata": {},
   "source": [
    "Проверю наличие NaN для дальнейшей корректной обработки."
   ]
  },
  {
   "cell_type": "code",
   "execution_count": 5,
   "id": "contrary-discretion",
   "metadata": {},
   "outputs": [
    {
     "name": "stdout",
     "output_type": "stream",
     "text": [
      "False    714\n",
      "Name: Survived, dtype: int64\n",
      "False    714\n",
      "Name: Pclass, dtype: int64\n",
      "False    714\n",
      "Name: Age, dtype: int64\n",
      "False    714\n",
      "Name: Fare, dtype: int64\n",
      "False    714\n",
      "Name: sex1, dtype: int64\n"
     ]
    }
   ],
   "source": [
    "for i in data.columns:\n",
    "    print(data[i].isnull().value_counts())"
   ]
  },
  {
   "cell_type": "markdown",
   "id": "amended-stage",
   "metadata": {},
   "source": [
    "# 2. Построение модели DecisionTreeClassifier и исследование влияния параметров на качество классификации"
   ]
  },
  {
   "cell_type": "code",
   "execution_count": 19,
   "id": "hawaiian-juice",
   "metadata": {},
   "outputs": [
    {
     "name": "stdout",
     "output_type": "stream",
     "text": [
      "              precision    recall  f1-score   support\n",
      "\n",
      "           0    0.80435   0.81319   0.80874        91\n",
      "           1    0.66667   0.65385   0.66019        52\n",
      "\n",
      "    accuracy                        0.75524       143\n",
      "   macro avg    0.73551   0.73352   0.73447       143\n",
      "weighted avg    0.75428   0.75524   0.75473       143\n",
      "\n",
      "AUC (area under ROC curve) =  0.7297125950972104\n"
     ]
    }
   ],
   "source": [
    "DTC = tree.DecisionTreeClassifier()\n",
    "DTC.fit(xtrain,ytrain)\n",
    "ypred = DTC.predict(xtest)\n",
    "print(metrics.classification_report(ytest,ypred,digits=5))\n",
    "print('AUC (area under ROC curve) = ', metrics.roc_auc_score(ytest,DTC.predict_proba(xtest)[:,1],average='macro',multi_class='ovr'))"
   ]
  }
 ],
 "metadata": {
  "kernelspec": {
   "display_name": "Python 3.9.12 ('base')",
   "language": "python",
   "name": "python3"
  },
  "language_info": {
   "codemirror_mode": {
    "name": "ipython",
    "version": 3
   },
   "file_extension": ".py",
   "mimetype": "text/x-python",
   "name": "python",
   "nbconvert_exporter": "python",
   "pygments_lexer": "ipython3",
   "version": "3.9.12"
  },
  "vscode": {
   "interpreter": {
    "hash": "b2a2d0a56c23e8ff240e12265c41bd4cf4ebc4a5bdfa5544f52816f127301f16"
   }
  }
 },
 "nbformat": 4,
 "nbformat_minor": 5
}
